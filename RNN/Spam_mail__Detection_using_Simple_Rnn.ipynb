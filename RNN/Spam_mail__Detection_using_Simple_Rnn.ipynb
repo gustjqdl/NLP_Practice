{
  "nbformat": 4,
  "nbformat_minor": 0,
  "metadata": {
    "colab": {
      "name": "Spam mail _Detection using Simple Rnn.ipynb",
      "provenance": [],
      "private_outputs": true
    },
    "kernelspec": {
      "name": "python3",
      "display_name": "Python 3"
    }
  },
  "cells": [
    {
      "cell_type": "code",
      "metadata": {
        "id": "LiuHNJAlaa2Z"
      },
      "source": [
        "import numpy as np\n",
        "import pandas as pd \n",
        "%matplotlib inline\n",
        "import matplotlib.pyplot as plt\n",
        "\n",
        "import urllib.request\n",
        "from tensorflow.keras.preprocessing.text import Tokenizer\n",
        "from tensorflow.keras.preprocessing.sequence import pad_sequences\n"
      ],
      "execution_count": null,
      "outputs": []
    },
    {
      "cell_type": "code",
      "metadata": {
        "id": "f1WAvoToaluW"
      },
      "source": [
        "urllib.request.urlretrieve(\"https://raw.githubusercontent.com/mohitgupta-omg/Kaggle-SMS-Spam-Collection-Dataset-/master/spam.csv\", filename=\"spam.csv\")\n",
        "\n",
        "data = pd.read_csv('spam.csv', encoding='latin1')"
      ],
      "execution_count": null,
      "outputs": []
    },
    {
      "cell_type": "code",
      "metadata": {
        "id": "HHoq4NzHama4"
      },
      "source": [
        "print ( '총 샘플의 수 : ', len(data))"
      ],
      "execution_count": null,
      "outputs": []
    },
    {
      "cell_type": "code",
      "metadata": {
        "id": "DhQbWogEamsF"
      },
      "source": [
        "data[:5]"
      ],
      "execution_count": null,
      "outputs": []
    },
    {
      "cell_type": "code",
      "metadata": {
        "id": "CIV1T57eamu9"
      },
      "source": [
        "del data['Unnamed: 2']\n",
        "del data['Unnamed: 3']\n",
        "del data['Unnamed: 4']\n",
        "data['v1'] = data['v1'].replace(['ham','spam'],[0,1])\n",
        "data[:5]"
      ],
      "execution_count": null,
      "outputs": []
    },
    {
      "cell_type": "code",
      "metadata": {
        "id": "kYYOSAHOam1X"
      },
      "source": [
        "data.info()"
      ],
      "execution_count": null,
      "outputs": []
    },
    {
      "cell_type": "code",
      "metadata": {
        "id": "vrnFa1-Ham_5"
      },
      "source": [
        "data.drop_duplicates(subset=['v2'], inplace=True)"
      ],
      "execution_count": null,
      "outputs": []
    },
    {
      "cell_type": "code",
      "metadata": {
        "id": "cX0qSH4UanCm"
      },
      "source": [
        "print('총 샘플의 수:', len(data))"
      ],
      "execution_count": null,
      "outputs": []
    },
    {
      "cell_type": "code",
      "metadata": {
        "id": "O6aQpv_Rc-4d"
      },
      "source": [
        "data['v1'].value_counts().plot(kind='bar')"
      ],
      "execution_count": null,
      "outputs": []
    },
    {
      "cell_type": "code",
      "metadata": {
        "id": "hYbvcPvTc_Ud"
      },
      "source": [
        "print(data.groupby('v1').size().reset_index(name='count'))"
      ],
      "execution_count": null,
      "outputs": []
    },
    {
      "cell_type": "code",
      "metadata": {
        "id": "v9OGQjEdc_bd"
      },
      "source": [
        "X_data = data['v2']\n",
        "y_data = data['v1']\n",
        "print('본문의 갯수:{}'.format(len(X_data)) )\n",
        "print('레이블의 갯수:{}'.format(len(y_data)) )"
      ],
      "execution_count": null,
      "outputs": []
    },
    {
      "cell_type": "code",
      "metadata": {
        "id": "cdqLDhFOc_mL"
      },
      "source": [
        "tokenizer = Tokenizer()\n",
        "tokenizer.fit_on_texts(X_data)\n",
        "sequences = tokenizer.texts_to_sequences(X_data)"
      ],
      "execution_count": null,
      "outputs": []
    },
    {
      "cell_type": "code",
      "metadata": {
        "id": "CTAL7-7Fc_0d"
      },
      "source": [
        "print(sequences[:5])"
      ],
      "execution_count": null,
      "outputs": []
    },
    {
      "cell_type": "code",
      "metadata": {
        "id": "_QHzfsWRdAEp"
      },
      "source": [
        "word_to_index = tokenizer.word_index\n",
        "print(word_to_index)"
      ],
      "execution_count": null,
      "outputs": []
    },
    {
      "cell_type": "code",
      "metadata": {
        "id": "_xW3Ydjikdt4"
      },
      "source": [
        "tokenizer.word_counts.items()"
      ],
      "execution_count": null,
      "outputs": []
    },
    {
      "cell_type": "code",
      "metadata": {
        "id": "-6gIdwMjdAQ_"
      },
      "source": [
        "\n",
        "threshold = 2 \n",
        "total_cnt = len(word_to_index)\n",
        "rare_cnt = 0\n",
        "total_freq = 0\n",
        "rare_freq = 0\n",
        "\n",
        "\n",
        "for key, value in tokenizer.word_counts.items():\n",
        "    total_freq = total_freq + value\n",
        "\n",
        "    if (value < threshold):\n",
        "        rare_cnt = rare_cnt +1 \n",
        "        rare_freq = rare_freq + value \n",
        "\n",
        "print(\"등장 빈도가 %s 번 이하인 희귀 단어 수: %s\"%(threshold -1, rare_cnt))\n",
        "print(\"단어집합(vocabulary)에서 희귀 단어 비율:\",(rare_cnt/total_cnt)*100)\n",
        "print('전체 등장빈도에서 희귀단어 등장 빈도 비율:',(rare_cnt/ total_freq)*100)\n"
      ],
      "execution_count": null,
      "outputs": []
    },
    {
      "cell_type": "code",
      "metadata": {
        "id": "_a9TTndWjGh7"
      },
      "source": [
        "vocab_size = len(word_to_index) +1 \n",
        "print('단어 집합의 크기:{}'.format(vocab_size))\n"
      ],
      "execution_count": null,
      "outputs": []
    },
    {
      "cell_type": "code",
      "metadata": {
        "id": "48nTAVIak-4W"
      },
      "source": [
        "n_of_train = int(len(sequences)*0.8)\n",
        "n_of_test = int(len(sequences)-n_of_train)\n",
        "print('훈련 데이터의 개수:',n_of_train)\n",
        "print('검증 데이터의 개수:',n_of_test)"
      ],
      "execution_count": null,
      "outputs": []
    },
    {
      "cell_type": "code",
      "metadata": {
        "id": "dRKdKIYilgiC"
      },
      "source": [
        "X_data = sequences\n",
        "print(\"메일의 최대 길이:%d\"%max(len(l)for l in X_data))\n",
        "print('메일의 평균 길이:%d'%(sum(map(len,X_data))/len(X_data)))\n",
        "plt.hist([len(s) for s in X_data], bins=50)\n",
        "plt.xlabel('length of samples')\n",
        "plt.ylabel('number of samples')\n",
        "plt.show()\n"
      ],
      "execution_count": null,
      "outputs": []
    },
    {
      "cell_type": "code",
      "metadata": {
        "id": "xeFleGCsmo2v"
      },
      "source": [
        "max_len = 189\n",
        "\n",
        "data = pad_sequences(X_data, maxlen=max_len)\n",
        "print('훈련 데이터 크기(shape):',data.shape)\n",
        "\n",
        "#5169 개의 데이터(문장들), 메일들 중 가장 긴 내용 189 크기"
      ],
      "execution_count": null,
      "outputs": []
    },
    {
      "cell_type": "code",
      "metadata": {
        "id": "eZw31lB9m7b8"
      },
      "source": [
        "X_test = data[n_of_train:]\n",
        "X_train = data[:n_of_train]\n",
        "\n",
        "y_test = np.array(y_data[n_of_train:])\n",
        "y_train = np.array(y_data[:n_of_train])\n"
      ],
      "execution_count": null,
      "outputs": []
    },
    {
      "cell_type": "code",
      "metadata": {
        "id": "3-fZilz7nz1J"
      },
      "source": [
        "from tensorflow.keras.layers import SimpleRNN, Embedding, Dense\n",
        "from tensorflow.keras.models import Sequential\n"
      ],
      "execution_count": null,
      "outputs": []
    },
    {
      "cell_type": "code",
      "metadata": {
        "id": "Bea5FYU7o_fO"
      },
      "source": [
        "model = Sequential()\n",
        "model.add(Embedding(vocab_size,32))\n",
        "model.add(SimpleRNN(32))\n",
        "model.add(Dense(1, activation='sigmoid'))\n",
        "\n",
        "model.compile(optimizer= 'rmsprop',loss='binary_crossentropy', metrics=['acc'])\n",
        "history = model.fit(X_train,y_train, epochs=4, batch_size=64, validation_split=0.2) "
      ],
      "execution_count": null,
      "outputs": []
    },
    {
      "cell_type": "code",
      "metadata": {
        "id": "G8pSXs8Gp6e2"
      },
      "source": [
        "print(\"\\n 테스트 정확도:%.4f\"%(model.evaluate(X_test,y_test)[1]))"
      ],
      "execution_count": null,
      "outputs": []
    },
    {
      "cell_type": "code",
      "metadata": {
        "id": "m53zEDuxqYzJ"
      },
      "source": [
        "epochs= range(1,len(history.history['acc'])+1)\n",
        "plt.plot(epochs,history.history['loss'])\n",
        "plt.plot(epochs,history.history['val_loss'])\n",
        "plt.title('model_loss')\n",
        "plt.ylabel('loss')\n",
        "plt.xlabel('epoch')\n",
        "\n",
        "plt.legend(['train','val'],loc='upper left')\n",
        "plt.show()\n"
      ],
      "execution_count": null,
      "outputs": []
    },
    {
      "cell_type": "code",
      "metadata": {
        "id": "nl_9f4GdrEbH"
      },
      "source": [
        ""
      ],
      "execution_count": null,
      "outputs": []
    }
  ]
}