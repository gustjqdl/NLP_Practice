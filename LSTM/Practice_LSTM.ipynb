{
  "nbformat": 4,
  "nbformat_minor": 0,
  "metadata": {
    "colab": {
      "name": "LSTM.ipynb",
      "private_outputs": true,
      "provenance": []
    },
    "kernelspec": {
      "name": "python3",
      "display_name": "Python 3"
    }
  },
  "cells": [
    {
      "cell_type": "code",
      "metadata": {
        "id": "U1Rod7ef1E5P"
      },
      "source": [
        "from tensorflow.keras.datasets import reuters\n",
        "%matplotlib inline\n",
        "import matplotlib.pyplot as plt\n",
        "\n",
        "import numpy as np\n",
        "import pandas as pd\n",
        "import seaborn as sns\n"
      ],
      "execution_count": null,
      "outputs": []
    },
    {
      "cell_type": "code",
      "metadata": {
        "id": "GF-dNbWv1O5n"
      },
      "source": [
        "(X_train, y_train),(X_test,y_test) = reuters.load_data(num_words=None, test_split=0.2)"
      ],
      "execution_count": null,
      "outputs": []
    },
    {
      "cell_type": "code",
      "metadata": {
        "id": "mleKPOMI1PEW"
      },
      "source": [
        "print('훈련용 뉴스기사:{}'.format(len(X_train)))\n",
        "print('테스트용 뉴스 기사:{}'.format(len(X_test)))\n",
        "num_classes = max(y_train) + 1 \n",
        "print('카테고리:{}'.format(num_classes))"
      ],
      "execution_count": null,
      "outputs": []
    },
    {
      "cell_type": "code",
      "metadata": {
        "id": "sOc8vRfq1PG8"
      },
      "source": [
        "print(X_train[0])\n",
        "print(y_train[0])"
      ],
      "execution_count": null,
      "outputs": []
    },
    {
      "cell_type": "code",
      "metadata": {
        "id": "qh6TokeS1PJj"
      },
      "source": [
        "\n",
        "print('뉴스 기사의 최대 길이 :{}'.format(max(len(l) for l in X_train)))\n",
        "\n",
        "print('뉴스기사의 평균길이:{}'.format(sum(map(len,X_train))/len(X_train)))\n",
        "\n",
        "plt.hist([len(s) for s in X_train], bins = 50)\n",
        "plt.xlabel('length of samples')\n",
        "plt.ylabel('number of samples')\n",
        "\n",
        "plt.show()"
      ],
      "execution_count": null,
      "outputs": []
    },
    {
      "cell_type": "code",
      "metadata": {
        "id": "CQsZi41k1POt"
      },
      "source": [
        "flg, axe = plt.subplots(ncols=1)\n",
        "flg.set_size_inches(12,5)\n",
        "sns.countplot(y_train)\n"
      ],
      "execution_count": null,
      "outputs": []
    },
    {
      "cell_type": "code",
      "metadata": {
        "id": "Uqdhg9971PRP"
      },
      "source": [
        "unique_elements,counts_elements = np.unique(y_train, return_counts=True)\n",
        "print('각 레이블의 빈도수 :')\n",
        "\n",
        "\n",
        "print(np.asarray((unique_elements, counts_elements)))"
      ],
      "execution_count": null,
      "outputs": []
    },
    {
      "cell_type": "code",
      "metadata": {
        "id": "l2bnzbLY1PUS"
      },
      "source": [
        "word_to_index = reuters.get_word_index()\n",
        "print(word_to_index)"
      ],
      "execution_count": null,
      "outputs": []
    },
    {
      "cell_type": "code",
      "metadata": {
        "id": "0j-O-rEG1PYu"
      },
      "source": [
        "index_to_word = {}\n",
        "\n",
        "for key, value in word_to_index.items():\n",
        "    index_to_word[value]= key "
      ],
      "execution_count": null,
      "outputs": []
    },
    {
      "cell_type": "code",
      "metadata": {
        "id": "ijQe6eRX1PgU"
      },
      "source": [
        "print('상위 28842번 단어 : {}'.format(index_to_word[28842]))\n"
      ],
      "execution_count": null,
      "outputs": []
    },
    {
      "cell_type": "code",
      "metadata": {
        "id": "D8m1j2BDA2tY"
      },
      "source": [
        "index_to_word[1]"
      ],
      "execution_count": null,
      "outputs": []
    },
    {
      "cell_type": "code",
      "metadata": {
        "id": "3HGO5ZDo1Pd3"
      },
      "source": [
        "for index, token in enumerate((\"<pad>\", \"<sos>\", \"<unk>\")):\n",
        "  index_to_word[index]=token\n",
        "\n",
        "print(' '.join([index_to_word[index] for index in X_train[0]]))"
      ],
      "execution_count": null,
      "outputs": []
    },
    {
      "cell_type": "code",
      "metadata": {
        "id": "Ay7M7GZU1Pb_"
      },
      "source": [
        "from tensorflow.keras.datasets import reuters\n",
        "from tensorflow.keras.models import Sequential\n",
        "from tensorflow.keras.layers import Dense, LSTM, Embedding\n",
        "from tensorflow.keras.preprocessing.sequence import pad_sequences\n",
        "from tensorflow.keras.utils import to_categorical\n",
        "from tensorflow.keras.callbacks import EarlyStopping, ModelCheckpoint\n",
        "from tensorflow.keras.models import load_model"
      ],
      "execution_count": null,
      "outputs": []
    },
    {
      "cell_type": "code",
      "metadata": {
        "id": "GmIJFp5r1PXo"
      },
      "source": [
        "(X_train,y_train),(X_test,y_test) = reuters.load_data(num_words=1000, test_split=0.2)"
      ],
      "execution_count": null,
      "outputs": []
    },
    {
      "cell_type": "code",
      "metadata": {
        "id": "QTNdj1DG1PM2"
      },
      "source": [
        "max_len = 100\n",
        "X_train = pad_sequences(X_train, maxlen=max_len)\n",
        "X_test = pad_sequences(X_test, maxlen=max_len)"
      ],
      "execution_count": null,
      "outputs": []
    },
    {
      "cell_type": "code",
      "metadata": {
        "id": "IcCO6vY_CRn9"
      },
      "source": [
        "y_train = to_categorical(y_train)"
      ],
      "execution_count": null,
      "outputs": []
    },
    {
      "cell_type": "code",
      "metadata": {
        "id": "yNnen0V5CUwn"
      },
      "source": [
        "y_test = to_categorical(y_test)"
      ],
      "execution_count": null,
      "outputs": []
    },
    {
      "cell_type": "code",
      "metadata": {
        "id": "t65M9gnpCdyP"
      },
      "source": [
        "model = Sequential()\n",
        "model.add(Embedding(1000,120))\n",
        "model.add(LSTM(120))\n",
        "model.add(Dense(46,activation='softmax'))"
      ],
      "execution_count": null,
      "outputs": []
    },
    {
      "cell_type": "code",
      "metadata": {
        "id": "QvxchWUZC9JQ"
      },
      "source": [
        "es = EarlyStopping(monitor='val_loss', mode='min', verbose=1, patience=4)\n",
        "mc = ModelCheckpoint('best_model.h5', monitor='val_acc',mode='max', verbose=1,save_best_only=True)\n"
      ],
      "execution_count": null,
      "outputs": []
    },
    {
      "cell_type": "code",
      "metadata": {
        "id": "-xMwZzBoDtAW"
      },
      "source": [
        "model.compile(loss='categorical_crossentropy',optimizer='adam',metrics=['acc'])"
      ],
      "execution_count": null,
      "outputs": []
    },
    {
      "cell_type": "code",
      "metadata": {
        "id": "THnQsFwREYIK"
      },
      "source": [
        "history = model.fit(X_train,y_train,batch_size= 128, epochs=30, callbacks=[es,mc],validation_data=(X_test,y_test))"
      ],
      "execution_count": null,
      "outputs": []
    },
    {
      "cell_type": "code",
      "metadata": {
        "id": "S_rmw6plEuPs"
      },
      "source": [
        "loaded_model = load_model('best_model.h5')\n",
        "print(\"\\n 테스트 정확도: %.4f\" % (loaded_model.evaluate(X_test, y_test)[1]))"
      ],
      "execution_count": null,
      "outputs": []
    },
    {
      "cell_type": "code",
      "metadata": {
        "id": "ybn3fwr1Fmcl"
      },
      "source": [
        "epochs = range(1, len(history.history['acc']) + 1)\n",
        "plt.plot(epochs, history.history['loss'])\n",
        "plt.plot(epochs, history.history['val_loss'])\n",
        "plt.title('model loss')\n",
        "plt.ylabel('loss')\n",
        "plt.xlabel('epoch')\n",
        "plt.legend(['train', 'test'], loc='upper left')\n",
        "plt.show()"
      ],
      "execution_count": null,
      "outputs": []
    },
    {
      "cell_type": "code",
      "metadata": {
        "id": "d9-dalyMHsbU"
      },
      "source": [
        ""
      ],
      "execution_count": null,
      "outputs": []
    }
  ]
}