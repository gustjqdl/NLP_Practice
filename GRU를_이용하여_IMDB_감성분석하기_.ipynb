{
  "nbformat": 4,
  "nbformat_minor": 0,
  "metadata": {
    "colab": {
      "name": "GRU를 이용하여 IMDB 감성분석하기 .ipynb",
      "private_outputs": true,
      "provenance": [],
      "authorship_tag": "ABX9TyPZQ4XCtw8o5+jtc3MGDmIi",
      "include_colab_link": true
    },
    "kernelspec": {
      "name": "python3",
      "display_name": "Python 3"
    }
  },
  "cells": [
    {
      "cell_type": "markdown",
      "metadata": {
        "id": "view-in-github",
        "colab_type": "text"
      },
      "source": [
        "<a href=\"https://colab.research.google.com/github/gustjqdl/NLP_Practice/blob/master/GRU%EB%A5%BC_%EC%9D%B4%EC%9A%A9%ED%95%98%EC%97%AC_IMDB_%EA%B0%90%EC%84%B1%EB%B6%84%EC%84%9D%ED%95%98%EA%B8%B0_.ipynb\" target=\"_parent\"><img src=\"https://colab.research.google.com/assets/colab-badge.svg\" alt=\"Open In Colab\"/></a>"
      ]
    },
    {
      "cell_type": "markdown",
      "metadata": {
        "id": "1elYpMu-0oq5"
      },
      "source": [
        "### IMDB 리뷰 감상 분석하기 \n"
      ]
    },
    {
      "cell_type": "code",
      "metadata": {
        "id": "p97Xfdo00u1F"
      },
      "source": [
        "%matplotlib inline\n",
        "import matplotlib.pyplot as plt\n",
        "import numpy as np\n",
        "from tensorflow.keras.datasets import imdb"
      ],
      "execution_count": null,
      "outputs": []
    },
    {
      "cell_type": "markdown",
      "metadata": {
        "id": "IVs5ED2R1EmV"
      },
      "source": [
        "#### IMDB 데이터 불러오기 및 데이터 확인하기"
      ]
    },
    {
      "cell_type": "code",
      "metadata": {
        "id": "5pZxfIeX05Hj"
      },
      "source": [
        "(X_train,y_train),(X_test,y_test) = imdb.load_data()"
      ],
      "execution_count": null,
      "outputs": []
    },
    {
      "cell_type": "code",
      "metadata": {
        "id": "pl8ODeFR05bc"
      },
      "source": [
        "print('훈련용 리뷰개수:{}'.format(len(X_train)))\n",
        "print('테스트용 리뷰개수:{}'.format(len(X_test)))\n",
        "num_classes = max(y_train) + 1\n",
        "print('카테고리 수 :{}'.format(num_classes))"
      ],
      "execution_count": null,
      "outputs": []
    },
    {
      "cell_type": "code",
      "metadata": {
        "id": "TBrfqcCb05iv"
      },
      "source": [
        "print(X_train[0])\n",
        "print(y_train[0])"
      ],
      "execution_count": null,
      "outputs": []
    },
    {
      "cell_type": "markdown",
      "metadata": {
        "id": "2l_7ru3s05qq"
      },
      "source": [
        "#### 리뷰길이 시각화 "
      ]
    },
    {
      "cell_type": "code",
      "metadata": {
        "id": "o4fjyCVK05yX"
      },
      "source": [
        "len_result = [len(s) for s in X_train]\n",
        "\n",
        "print('리뷰의 최대길이:{}'.format(np.max(len_result)))\n",
        "print('리뷰의 평균 길이:{}'.format(np.mean(len_result)))\n",
        "\n",
        "plt.subplot(1,2,1)\n",
        "plt.boxplot(len_result)\n",
        "plt.subplot(1,2,2)\n",
        "plt.hist(len_result,bins=50)\n",
        "plt.show()"
      ],
      "execution_count": null,
      "outputs": []
    },
    {
      "cell_type": "code",
      "metadata": {
        "id": "jm3G-C8J05_F"
      },
      "source": [
        "unique_elements, counts_elements = np.unique(y_train, return_counts=True)\n",
        "print('각 레이블에 대한 분포 수 : ')\n",
        "print(np.asarray((unique_elements, counts_elements)))\n",
        "\n",
        "## 5 대 5로 나눠진 형태 "
      ],
      "execution_count": null,
      "outputs": []
    },
    {
      "cell_type": "markdown",
      "metadata": {
        "id": "n2XMpfkn06Eu"
      },
      "source": [
        "#### X_train가 어떤 단어를 갖고 있는지 확인하기 "
      ]
    },
    {
      "cell_type": "code",
      "metadata": {
        "id": "VF0-MCcx06Ka"
      },
      "source": [
        "word_to_index = imdb.get_word_index()\n",
        "index_to_word={}\n",
        "\n",
        "for key, value in word_to_index.items():\n",
        "    index_to_word[value+3] = key          # value에 +3을 해준 이유는 IMDB에서 정한 규칙에 의한 것 "
      ],
      "execution_count": null,
      "outputs": []
    },
    {
      "cell_type": "code",
      "metadata": {
        "id": "TLXlzS6r58px"
      },
      "source": [
        "print('빈도수 1등 단어:{}'.format(index_to_word[4]))"
      ],
      "execution_count": null,
      "outputs": []
    },
    {
      "cell_type": "code",
      "metadata": {
        "id": "qYeoEcxD6abP"
      },
      "source": [
        "for index, token in enumerate(('<pad>','<sos>','<unk>')):\n",
        "    index_to_word[index] = token \n",
        "    \n",
        "    \n",
        "print(' '.join([index_to_word[index] for index in X_train[0]]))"
      ],
      "execution_count": null,
      "outputs": []
    },
    {
      "cell_type": "markdown",
      "metadata": {
        "id": "2WbyQVeN62y-"
      },
      "source": [
        "### GRU로 리뷰 분석"
      ]
    },
    {
      "cell_type": "code",
      "metadata": {
        "id": "ZSIvVLRu7Wn0"
      },
      "source": [
        "import re \n",
        "from tensorflow.keras.datasets import imdb\n",
        "from tensorflow.keras.preprocessing.sequence import pad_sequences\n",
        "from tensorflow.keras.models import Sequential, load_model\n",
        "from tensorflow.keras.layers import Embedding, GRU, Dense\n",
        "from tensorflow.keras.callbacks import EarlyStopping, ModelCheckpoint\n",
        "from tensorflow.keras.models import load_model"
      ],
      "execution_count": null,
      "outputs": []
    },
    {
      "cell_type": "markdown",
      "metadata": {
        "id": "LRCbzreq8oVR"
      },
      "source": [
        "##### 데이터 셋 분류 "
      ]
    },
    {
      "cell_type": "code",
      "metadata": {
        "id": "0Rk3zBGV7-X1"
      },
      "source": [
        "vocab_size = 1000\n",
        "\n",
        "(X_train,y_train), (X_test,y_test) = imdb.load_data(num_words=vocab_size)\n"
      ],
      "execution_count": null,
      "outputs": []
    },
    {
      "cell_type": "markdown",
      "metadata": {
        "id": "TVlFzsTR8tYf"
      },
      "source": [
        "##### 패딩 작업 "
      ]
    },
    {
      "cell_type": "code",
      "metadata": {
        "id": "UWQZEmfZ8MYm"
      },
      "source": [
        "max_len = 500\n",
        "X_train = pad_sequences(X_train, maxlen=max_len)\n",
        "X_test = pad_sequences(X_test,maxlen=max_len)"
      ],
      "execution_count": null,
      "outputs": []
    },
    {
      "cell_type": "markdown",
      "metadata": {
        "id": "z74ajJaj8fGb"
      },
      "source": [
        "##### 층 쌓기 "
      ]
    },
    {
      "cell_type": "code",
      "metadata": {
        "id": "_09bn3O58y6Q"
      },
      "source": [
        "model = Sequential()\n",
        "model.add(Embedding(vocab_size,100))\n",
        "model.add(GRU(128))\n",
        "model.add(Dense(1, activation='sigmoid'))"
      ],
      "execution_count": null,
      "outputs": []
    },
    {
      "cell_type": "code",
      "metadata": {
        "id": "xn1Fkefz9Fvo"
      },
      "source": [
        "es = EarlyStopping(monitor='val_loss',mode='min',verbose=1,patience=4)\n",
        "mc = ModelCheckpoint('GRU_model.h5', monitor='val_acc', mode='max',verbose=1,save_best_only=True)"
      ],
      "execution_count": null,
      "outputs": []
    },
    {
      "cell_type": "code",
      "metadata": {
        "id": "FsMTws7V9f0R"
      },
      "source": [
        "model.compile(optimizer='rmsprop', loss= 'binary_crossentropy', metrics=['acc'])\n",
        "history = model.fit(X_train,y_train, epochs=15, callbacks=[es,mc],batch_size=60, validation_split=0.2)"
      ],
      "execution_count": null,
      "outputs": []
    },
    {
      "cell_type": "code",
      "metadata": {
        "id": "GqDuUiQV-FgW"
      },
      "source": [
        "loaded_model = load_model('GRU_model.h5')\n",
        "print(\"\\n 테스트 정확도: %.4f\" % (loaded_model.evaluate(X_test, y_test)[1]))"
      ],
      "execution_count": null,
      "outputs": []
    },
    {
      "cell_type": "code",
      "metadata": {
        "id": "JtqhiiD_SaOC"
      },
      "source": [
        ""
      ],
      "execution_count": null,
      "outputs": []
    },
    {
      "cell_type": "markdown",
      "metadata": {
        "id": "gfWMpbFP-x-K"
      },
      "source": [
        "#### 임의 문장 입력에 대한 긍부적 예측 함수 만들기 "
      ]
    },
    {
      "cell_type": "code",
      "metadata": {
        "id": "SzypD2CZ-2ZF"
      },
      "source": [
        "def sentiment_predict(new_sentence):\n",
        "  # 알파벳과 숫자를 제외하고 모두 제거 및 알파벳 소문자화\n",
        "  new_sentence = re.sub('[^0-9a-zA-Z ]', '', new_sentence).lower()\n",
        "\n",
        "  # 정수 인코딩\n",
        "  encoded = []\n",
        "  for word in new_sentence.split():\n",
        "    # 단어 집합의 크기를 10,000으로 제한.\n",
        "    try :\n",
        "      if word_to_index[word] <= 10000:\n",
        "        encoded.append(word_to_index[word]+3)\n",
        "      else:\n",
        "    # 10,000 이상의 숫자는 <unk> 토큰으로 취급.\n",
        "        encoded.append(2)\n",
        "    # 단어 집합에 없는 단어는 <unk> 토큰으로 취급.\n",
        "    except KeyError:\n",
        "      encoded.append(2)\n",
        "\n",
        "  pad_new = pad_sequences([encoded], maxlen = max_len) # 패딩\n",
        "  score = float(loaded_model.predict(pad_new)) # 예측\n",
        "  if(score > 0.5):\n",
        "    print(\"{:.2f}% 확률로 긍정 리뷰입니다.\".format(score * 100))\n",
        "  else:\n",
        "    print(\"{:.2f}% 확률로 부정 리뷰입니다.\".format((1 - score) * 100))     "
      ],
      "execution_count": null,
      "outputs": []
    },
    {
      "cell_type": "markdown",
      "metadata": {
        "id": "qso59p3lA1tT"
      },
      "source": [
        "##### 예측하기 위해 IMDB에서 1점짜리 리뷰를 가져와서 적용해보기"
      ]
    },
    {
      "cell_type": "code",
      "metadata": {
        "id": "BXN8SjrfAzq9"
      },
      "source": [
        "temp_str = \"This movie was just way too overrated. The fighting was not professional and in slow motion. I was expecting more from a 200 million budget movie. The little sister of T.Challa was just trying too hard to be funny. The story was really dumb as well. Don't watch this movie if you are going because others say its great unless you are a Black Panther fan or Marvels fan.\"\n",
        "\n",
        "sentiment_predict(temp_str)"
      ],
      "execution_count": null,
      "outputs": []
    },
    {
      "cell_type": "markdown",
      "metadata": {
        "id": "hO534MIfA_EK"
      },
      "source": [
        "#####예측하기 위해 IMDB에서 10점짜리 리뷰를 가져와서 적용해보기 "
      ]
    },
    {
      "cell_type": "code",
      "metadata": {
        "id": "Br-cB9BBBDUU"
      },
      "source": [
        "temp_str = \" I was lucky enough to be included in the group to see the advanced screening in Melbourne on the 15th of April, 2012. And, firstly, I need to say a big thank-you to Disney and Marvel Studios. \\\n",
        "Now, the film... how can I even begin to explain how I feel about this film? It is, as the title of this review says a 'comic book triumph'. I went into the film with very, very high expectations and I was not disappointed. \\\n",
        "Seeing Joss Whedon's direction and envisioning of the film come to life on the big screen is perfect. The script is amazingly detailed and laced with sharp wit a humor. The special effects are literally mind-blowing and the action scenes are both hard-hitting and beautifully choreographed.\"\n",
        "\n",
        "sentiment_predict(temp_str)"
      ],
      "execution_count": null,
      "outputs": []
    },
    {
      "cell_type": "code",
      "metadata": {
        "id": "VPrIODedHXof"
      },
      "source": [
        "import tensorflow"
      ],
      "execution_count": null,
      "outputs": []
    }
  ]
}